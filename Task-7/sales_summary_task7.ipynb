{
 "cells": [
  {
   "cell_type": "markdown",
   "id": "b925936a",
   "metadata": {},
   "source": [
    "# 📒 Sales Summary - Task 7\n",
    "\n",
    "This notebook connects to an SQLite database, retrieves basic sales summary, and visualizes revenue by product."
   ]
  },
  {
   "cell_type": "code",
   "execution_count": null,
   "id": "6c80da2a",
   "metadata": {},
   "outputs": [],
   "source": [
    "\n",
    "# --- Step 1: Import Libraries ---\n",
    "import sqlite3\n",
    "import pandas as pd\n",
    "import matplotlib.pyplot as plt\n"
   ]
  },
  {
   "cell_type": "code",
   "execution_count": null,
   "id": "0543c080",
   "metadata": {},
   "outputs": [],
   "source": [
    "\n",
    "# --- Step 2: Connect to SQLite Database ---\n",
    "# Make sure sales_data.db is in the same folder as this notebook\n",
    "conn = sqlite3.connect(\"sales_data.db\")\n"
   ]
  },
  {
   "cell_type": "code",
   "execution_count": null,
   "id": "c04f3a2a",
   "metadata": {},
   "outputs": [],
   "source": [
    "\n",
    "# --- Step 3: Run SQL Query ---\n",
    "query = \"\"\"\n",
    "SELECT \n",
    "    product, \n",
    "    SUM(quantity) AS total_qty, \n",
    "    SUM(quantity * price) AS revenue\n",
    "FROM sales\n",
    "GROUP BY product\n",
    "ORDER BY revenue DESC;\n",
    "\"\"\"\n",
    "\n",
    "df = pd.read_sql_query(query, conn)\n"
   ]
  },
  {
   "cell_type": "code",
   "execution_count": null,
   "id": "8cfeafcb",
   "metadata": {},
   "outputs": [],
   "source": [
    "\n",
    "# --- Step 4: Display Sales Summary ---\n",
    "print(\"📊 Sales Summary:\\n\")\n",
    "display(df)\n"
   ]
  },
  {
   "cell_type": "code",
   "execution_count": null,
   "id": "6ced08cf",
   "metadata": {},
   "outputs": [],
   "source": [
    "\n",
    "# --- Step 5: Plot Bar Chart (Revenue by Product) ---\n",
    "plt.figure(figsize=(8,5))\n",
    "plt.bar(df[\"product\"], df[\"revenue\"], color=\"skyblue\")\n",
    "plt.xlabel(\"Product\")\n",
    "plt.ylabel(\"Revenue\")\n",
    "plt.title(\"Revenue by Product\")\n",
    "plt.xticks(rotation=45)\n",
    "plt.tight_layout()\n",
    "\n",
    "# Save and Show\n",
    "plt.savefig(\"sales_chart.png\")\n",
    "plt.show()\n"
   ]
  },
  {
   "cell_type": "code",
   "execution_count": null,
   "id": "9dd86300",
   "metadata": {},
   "outputs": [],
   "source": [
    "\n",
    "# --- Step 6: Close Connection ---\n",
    "conn.close()\n"
   ]
  }
 ],
 "metadata": {},
 "nbformat": 4,
 "nbformat_minor": 5
}
